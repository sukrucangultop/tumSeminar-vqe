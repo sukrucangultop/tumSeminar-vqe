{
 "cells": [
  {
   "cell_type": "code",
   "execution_count": 1,
   "id": "c02301ad",
   "metadata": {},
   "outputs": [],
   "source": [
    "import qiskit as qk\n",
    "import numpy as np"
   ]
  },
  {
   "cell_type": "code",
   "execution_count": 2,
   "id": "fab01630",
   "metadata": {},
   "outputs": [
    {
     "name": "stdout",
     "output_type": "stream",
     "text": [
      "Measurement in the ZZ basis\n"
     ]
    },
    {
     "data": {
      "image/png": "[encoded data removed]",
      "text/plain": [
       "<Figure size 267.052x204.68 with 1 Axes>"
      ]
     },
     "execution_count": 2,
     "metadata": {},
     "output_type": "execute_result"
    }
   ],
   "source": [
    "qc = qk.QuantumCircuit(2,1)\n",
    "qc.barrier()\n",
    "qc.cx(0,1)\n",
    "qc.measure(1,0)\n",
    "print(\"Measurement in the ZZ basis\")\n",
    "qc.draw(output=\"mpl\")"
   ]
  },
  {
   "cell_type": "code",
   "execution_count": 3,
   "id": "07766680",
   "metadata": {},
   "outputs": [
    {
     "name": "stdout",
     "output_type": "stream",
     "text": [
      "Measurement in the XX basis\n"
     ]
    },
    {
     "data": {
      "image/png": "[encoded data removed]",
      "text/plain": [
       "<Figure size 327.252x204.68 with 1 Axes>"
      ]
     },
     "execution_count": 3,
     "metadata": {},
     "output_type": "execute_result"
    }
   ],
   "source": [
    "qc = qk.QuantumCircuit(2,1)\n",
    "qc.barrier()\n",
    "qc.h(0)\n",
    "qc.h(1)\n",
    "qc.cx(0,1)\n",
    "qc.measure(1,0)\n",
    "print(\"Measurement in the XX basis\")\n",
    "qc.draw(output=\"mpl\")"
   ]
  },
  {
   "cell_type": "code",
   "execution_count": 4,
   "id": "3acd39d4",
   "metadata": {},
   "outputs": [
    {
     "name": "stdout",
     "output_type": "stream",
     "text": [
      "Measurement in the YY basis\n"
     ]
    },
    {
     "data": {
      "image/png": "[encoded data removed]",
      "text/plain": [
       "<Figure size 387.452x204.68 with 1 Axes>"
      ]
     },
     "execution_count": 4,
     "metadata": {},
     "output_type": "execute_result"
    }
   ],
   "source": [
    "qc = qk.QuantumCircuit(2,1)\n",
    "qc.barrier()\n",
    "qc.sdg(0)\n",
    "qc.sdg(1)\n",
    "qc.h(0)\n",
    "qc.h(1)\n",
    "qc.cx(0,1)\n",
    "qc.measure(1,0)\n",
    "print(\"Measurement in the YY basis\")\n",
    "qc.draw(output=\"mpl\")"
   ]
  },
  {
   "cell_type": "code",
   "execution_count": 5,
   "id": "734291f3",
   "metadata": {},
   "outputs": [],
   "source": [
    "from qiskit import Aer\n",
    "import numpy as np\n",
    "from scipy.optimize import minimize_scalar, minimize\n",
    "from numpy import pi\n",
    "\n",
    "sim_bknd = qk.Aer.get_backend('qasm_simulator')"
   ]
  },
  {
   "cell_type": "code",
   "execution_count": 6,
   "id": "3e44ff94",
   "metadata": {},
   "outputs": [],
   "source": [
    "def ansatz(qc, qr, theta):\n",
    "    \"\"\"\n",
    "    Builds the trial state using the ansatz: (RX I) CX (H I)|00>\n",
    "    \n",
    "    Arguments\n",
    "    -----------\n",
    "    qc: is a QuantumCircuit object from Qiskit\n",
    "    qr: is a QuantumRegister object used in the quantum circuit qc\n",
    "    theta (real): is the parameter parametrizing the trial state\n",
    "    \n",
    "    Return\n",
    "    ---------\n",
    "    qc: returns the input quantum circuit added with the gates creating the trial state\n",
    "    \n",
    "    \"\"\"\n",
    "    \n",
    "    qc.h(qr[0])\n",
    "    qc.cx(qr[0],qr[1])\n",
    "    qc.rx(theta, qr[0])\n",
    "    \n",
    "    return qc\n",
    "\n",
    "def measurements(qc, qr, cr, op):\n",
    "    \"\"\"\n",
    "    Implements the quantum measurements in different basis: XX, YY and ZZ.\n",
    "    \n",
    "    Arguments\n",
    "    -----------\n",
    "    qc: is a QuantumCircuit object from Qiskit\n",
    "    qr: is a QuantumRegister object used in the quantum circuit qc\n",
    "    cr: is a ClassicalRegister object used in the quantum circuit qc\n",
    "    op (str): is a string with possible values: XX, YY and ZZ.\n",
    "    \n",
    "    \n",
    "    Return\n",
    "    ---------\n",
    "    qc: returns the input quantum circuit added with the appropriate gates to measure in the selected basis.\n",
    "    \n",
    "    \"\"\"\n",
    "    \n",
    "    if op == \"XX\":\n",
    "        # Change of basis, since X = HZH\n",
    "        qc.h(qr[0])\n",
    "        qc.h(qr[1])\n",
    "        \n",
    "        # CNOT used to measure ZZ operator\n",
    "        qc.cx(qr[0],qr[1])\n",
    "        \n",
    "        # Measurement of qubit 1 on classical register 0\n",
    "        qc.measure(qr[1],cr[0])\n",
    "        \n",
    "    elif op == \"YY\":\n",
    "        # Change of basis, since Y = (HS†)Z(HS†)\n",
    "        qc.sdg(qr[0])\n",
    "        qc.sdg(qr[1])\n",
    "        qc.h(qr[0])\n",
    "        qc.h(qr[1])\n",
    "        \n",
    "        # CNOT used to measure ZZ operator\n",
    "        qc.cx(qr[0],qr[1])\n",
    "        \n",
    "        # Measurement of qubit 1 on classical register 0\n",
    "        qc.measure(qr[1],cr[0])\n",
    "        \n",
    "    elif op == \"ZZ\":\n",
    "        # CNOT used to measure ZZ operator\n",
    "        qc.cx(qr[0],qr[1])\n",
    "        \n",
    "        # Measurement of qubit 1 on classical register 0\n",
    "        qc.measure(qr[1],cr[0])\n",
    "    \n",
    "    else:\n",
    "        print(f\"WARNING: Measurement on the {op} basis not supported\")\n",
    "        return \n",
    "        \n",
    "    return qc\n",
    "\n",
    "def hamiltonian(params):\n",
    "    \"\"\"\n",
    "    Evaulates the Energy of the trial state using the mean values of the operators XX, YY and ZZ.\n",
    "    \n",
    "    Arguments\n",
    "    -----------\n",
    "    params (dict): is an dictionary containing the mean values form the measurements of the operators XX, YY, ZZ;\n",
    "    \n",
    "    Return\n",
    "    ---------\n",
    "    en (real): energy of the system\n",
    "    \n",
    "    \"\"\"\n",
    "    # H = 1/2 * (Id + ZZ - XX - YY)\n",
    "    en = (1 + params['ZZ'] - params['XX'] - params['YY']) / 2\n",
    "    return en\n",
    "\n",
    "def vqe_step(theta, verbose = True):\n",
    "    \"\"\"\n",
    "    Executes the VQE algorithm. \n",
    "    Creates and executes three quantum circuits (one for each of the observables XX, YY and ZZ), then evaluates the energy.\n",
    "    \n",
    "    Arguments\n",
    "    -----------\n",
    "    theta (real): is the parameter parametrizing the trial state\n",
    "    \n",
    "    Return\n",
    "    --------\n",
    "    energy (real): the energy of the system\n",
    "    qc_list (dict): a dictionary containing the three quantum circuits for the observables XX, YY and ZZ\n",
    "    \n",
    "    \"\"\"\n",
    "    # Number of executions for each quantum circuit\n",
    "    shots=8192\n",
    "    \n",
    "    vqe_res = dict()\n",
    "    qc_list = dict()\n",
    "    \n",
    "    for op in [\"XX\", \"YY\", \"ZZ\"]:\n",
    "        qr = qk.QuantumRegister(2, \"qr\")\n",
    "        cr = qk.ClassicalRegister(1, \"cr\")\n",
    "        qc = qk.QuantumCircuit(qr, cr)\n",
    "\n",
    "        # Implementation of the ansatz\n",
    "        qc = ansatz(qc, qr, theta)\n",
    "\n",
    "        # Just for plotting purposes\n",
    "        qc.barrier()\n",
    "\n",
    "        # Measurements in the appropriate basis (XX, YY, ZZ) are implemented\n",
    "        qc = measurements(qc, qr, cr, op)\n",
    "                \n",
    "        # Get the measurements results\n",
    "        counts = qk.execute(qc, sim_bknd, shots=shots).result().get_counts()\n",
    "\n",
    "        # Check the results, and evaluate the mean value dividing by the number of shots\n",
    "        if len(counts) == 1: \n",
    "            try:\n",
    "                counts['0']\n",
    "                mean_val = 1\n",
    "            except:\n",
    "                mean_val = -1\n",
    "        else:\n",
    "            # Evaluates the mean value of Z operator, as the difference in the number of \n",
    "            # 0s and 1s in the measurement outcomes\n",
    "            mean_val = (counts['0']-counts['1'])/shots\n",
    "            \n",
    "        vqe_res[op] = mean_val\n",
    "        qc_list[op] = qc\n",
    "        \n",
    "    energy = hamiltonian(vqe_res)\n",
    "    \n",
    "    if verbose: \n",
    "        print(\"Mean values from measurement results:\\n\", vqe_res) \n",
    "        print(f\"\\n{'Theta':<10} {'Energy':<10} {'<XX>':<10} {'<YY>':<10} {'<ZZ>':<10}\")\n",
    "        print(f\"{theta:<10f} {energy:<10f} {vqe_res['XX']:<10f} {vqe_res['YY']:<10f} {vqe_res['ZZ']:<10f}\")\n",
    "    \n",
    "        return energy, qc_list\n",
    "    \n",
    "    else: \n",
    "        return energy"
   ]
  },
  {
   "cell_type": "code",
   "execution_count": 7,
   "id": "d6ad1dc8",
   "metadata": {},
   "outputs": [
    {
     "name": "stdout",
     "output_type": "stream",
     "text": [
      "Mean values from measurement results:\n",
      " {'XX': 1, 'YY': -0.9765625, 'ZZ': 0.979736328125}\n",
      "\n",
      "Theta      Energy     <XX>       <YY>       <ZZ>      \n",
      "0.200000   0.978149   1.000000   -0.976562  0.979736  \n",
      "\n",
      "Quantum circuit for the measurement of YY\n"
     ]
    },
    {
     "data": {
      "image/png": "[encoded data removed]",
      "text/plain": [
       "<Figure size 576.706x204.68 with 1 Axes>"
      ]
     },
     "execution_count": 7,
     "metadata": {},
     "output_type": "execute_result"
    }
   ],
   "source": [
    "# Set the value of theta\n",
    "theta = 0.2\n",
    "\n",
    "# Run the VQE step to evaluate the energy (eigenvalue of the Hamiltonian) of the state with given theta\n",
    "energy, qc_list = vqe_step(theta)\n",
    "\n",
    "# Plot the circuit used for the measurement of YY\n",
    "op = 'YY'\n",
    "print(f\"\\nQuantum circuit for the measurement of {op}\")\n",
    "qc_list[op].draw(output=\"mpl\")"
   ]
  },
  {
   "cell_type": "code",
   "execution_count": 8,
   "id": "c536d5bc",
   "metadata": {},
   "outputs": [
    {
     "data": {
      "text/plain": [
       "     fun: -1.0\n",
       " message: 'Solution found.'\n",
       "    nfev: 27\n",
       "  status: 0\n",
       " success: True\n",
       "       x: 3.121365620923951"
      ]
     },
     "execution_count": 8,
     "metadata": {},
     "output_type": "execute_result"
    }
   ],
   "source": [
    "minimize_scalar(vqe_step, args=(False), bounds = (0, pi), method = \"bounded\")"
   ]
  },
  {
   "cell_type": "code",
   "execution_count": 9,
   "id": "477e99f4",
   "metadata": {},
   "outputs": [
    {
     "name": "stdout",
     "output_type": "stream",
     "text": [
      "Mean values from measurement results:\n",
      " {'XX': 1, 'YY': 1, 'ZZ': -1}\n",
      "\n",
      "Theta      Energy     <XX>       <YY>       <ZZ>      \n",
      "3.141593   -1.000000  1.000000   1.000000   -1.000000 \n"
     ]
    }
   ],
   "source": [
    "lowest, _ = vqe_step(pi)"
   ]
  },
  {
   "cell_type": "code",
   "execution_count": 10,
   "id": "fe2908e5",
   "metadata": {},
   "outputs": [
    {
     "name": "stdout",
     "output_type": "stream",
     "text": [
      "Desired Hamiltionian H = \n",
      " [[ 1.+0.j  0.+0.j  0.+0.j  0.+0.j]\n",
      " [ 0.+0.j  0.+0.j -1.+0.j  0.+0.j]\n",
      " [ 0.+0.j -1.+0.j  0.+0.j  0.+0.j]\n",
      " [ 0.+0.j  0.+0.j  0.+0.j  1.+0.j]]\n"
     ]
    }
   ],
   "source": [
    "# Definition of one qubit Pauli matrices\n",
    "I = np.array([[1,0],[0,1]])\n",
    "X = np.array([[0,1],[1,0]])\n",
    "Y = np.array([[0,-1j],[1j,0]])\n",
    "Z = np.array([[1,0],[0,-1]])\n",
    "\n",
    "# Evaluation of two qubit Pauli matrices\n",
    "II = np.kron(I,I)\n",
    "XX = np.kron(X,X)\n",
    "YY = np.kron(Y,Y)\n",
    "ZZ = np.kron(Z,Z)\n",
    "\n",
    "# Calculation of the Hamiltonian\n",
    "H = (1/2) * (II+ZZ) - (1/2) * (XX+YY)\n",
    "\n",
    "print(\"Desired Hamiltionian H = \\n\", H)"
   ]
  },
  {
   "cell_type": "code",
   "execution_count": 11,
   "id": "d89a6cfe",
   "metadata": {},
   "outputs": [
    {
     "name": "stdout",
     "output_type": "stream",
     "text": [
      "Eigenvalues: [ 1.+0.j -1.+0.j  1.+0.j  1.+0.j]\n"
     ]
    }
   ],
   "source": [
    "import scipy\n",
    "\n",
    "# Calculate eigenvalues and eigenvectors of H\n",
    "eigenvalues, eigenvectors = scipy.linalg.eig(H)\n",
    "print(\"Eigenvalues:\", eigenvalues)"
   ]
  },
  {
   "cell_type": "code",
   "execution_count": null,
   "id": "335f6ad1",
   "metadata": {},
   "outputs": [],
   "source": []
  }
 ],
 "metadata": {
  "kernelspec": {
   "display_name": "Python 3 (ipykernel)",
   "language": "python",
   "name": "python3"
  },
  "language_info": {
   "codemirror_mode": {
    "name": "ipython",
    "version": 3
   },
   "file_extension": ".py",
   "mimetype": "text/x-python",
   "name": "python",
   "nbconvert_exporter": "python",
   "pygments_lexer": "ipython3",
   "version": "3.9.5"
  }
 },
 "nbformat": 4,
 "nbformat_minor": 5
}
